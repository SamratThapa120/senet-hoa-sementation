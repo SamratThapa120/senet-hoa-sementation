{
 "cells": [
  {
   "cell_type": "code",
   "execution_count": 1,
   "metadata": {},
   "outputs": [
    {
     "name": "stderr",
     "output_type": "stream",
     "text": [
      "/usr/local/lib/python3.8/dist-packages/tqdm/auto.py:21: TqdmWarning: IProgress not found. Please update jupyter and ipywidgets. See https://ipywidgets.readthedocs.io/en/stable/user_install.html\n",
      "  from .autonotebook import tqdm as notebook_tqdm\n"
     ]
    }
   ],
   "source": [
    "import torch\n",
    "import matplotlib.pyplot as plt\n",
    "from tqdm import tqdm\n",
    "import numpy as np\n",
    "import cv2\n",
    "import sys\n",
    "import os\n",
    "from torch.utils.data import DataLoader\n",
    "\n",
    "os.environ[\"CUDA_VISIBLE_DEVICES\"]=\"4\"\n",
    "sys.path.append(\"../\")\n",
    "\n",
    "from configs.baseline_effnetb7_3planes_v0_noinfoloss import Configs\n"
   ]
  },
  {
   "cell_type": "code",
   "execution_count": 2,
   "metadata": {},
   "outputs": [],
   "source": [
    "from senet_hoa.callbacks.evaluation import compute_2d_dice"
   ]
  },
  {
   "cell_type": "code",
   "execution_count": 3,
   "metadata": {},
   "outputs": [
    {
     "name": "stderr",
     "output_type": "stream",
     "text": [
      "/usr/local/lib/python3.8/dist-packages/timm/models/_factory.py:117: UserWarning: Mapping deprecated model name tf_efficientnetv2_m_in21k to current tf_efficientnetv2_m.in21k.\n",
      "  model = create_fn(\n",
      "/usr/local/lib/python3.8/dist-packages/torch/storage.py:315: UserWarning: TypedStorage is deprecated. It will be removed in the future and UntypedStorage will be the only storage class. This should only matter to you if you are using storages directly.\n",
      "  warnings.warn(message, UserWarning)\n"
     ]
    },
    {
     "name": "stdout",
     "output_type": "stream",
     "text": [
      "length of train: 14800, length of valid: 513\n"
     ]
    }
   ],
   "source": [
    "cfg = Configs()"
   ]
  },
  {
   "cell_type": "code",
   "execution_count": 4,
   "metadata": {},
   "outputs": [],
   "source": [
    "\n",
    "import torch\n",
    "from tqdm import tqdm\n",
    "import os\n",
    "import numpy as np\n",
    "from scipy import stats\n",
    "from collections import defaultdict\n",
    "from senet_hoa.utils.surface_dice_metric import compute_surface_dice_at_tolerance,compute_surface_distances\n",
    "from senet_hoa.dataset.segment_3d_dataset import LargeImageInferenceCollator\n",
    "\n",
    "def compute_2d_dice(gt,pred):\n",
    "    return compute_surface_dice_at_tolerance(compute_surface_distances(gt,pred,(1,1)),0)\n",
    "\n",
    "class ModelValidationCallback:\n",
    "    def __init__(self,model,valid_loader,threshold=0.5,device=\"cpu\",output_dir=\"./\"):\n",
    "        self.model = model\n",
    "        self.valid_loader = valid_loader\n",
    "        self.threshold = threshold\n",
    "        self.device = device\n",
    "        self.output_dir = output_dir\n",
    "        self.score =-1\n",
    "\n",
    "    def __call__(self, current_step):\n",
    "        # Initializing storage for overall truths and predictions\n",
    "        ground_truth = []\n",
    "        predictions = []\n",
    "        \n",
    "        for images,coors,shape,mask_gt in tqdm(self.valid_loader):\n",
    "            with torch.no_grad():\n",
    "                prediction = self.model(images.to(self.device)).detach().cpu()\n",
    "                prediction = torch.sigmoid(LargeImageInferenceCollator.combine_masks_into_image(shape,coors,prediction))\n",
    "            ground_truth.append(mask_gt.squeeze(0).numpy())\n",
    "            predictions.append(prediction.squeeze(0).squeeze(1).numpy())\n",
    "        return ground_truth,predictions"
   ]
  },
  {
   "cell_type": "code",
   "execution_count": 5,
   "metadata": {},
   "outputs": [
    {
     "name": "stdout",
     "output_type": "stream",
     "text": [
      "loading model checkpoint from epoch:  29600\n"
     ]
    },
    {
     "data": {
      "text/plain": [
       "1"
      ]
     },
     "execution_count": 5,
     "metadata": {},
     "output_type": "execute_result"
    }
   ],
   "source": [
    "cfg.load_state_dict(\"/app/segment/solve-diseases/workdir/configs.baseline_effnetb7_3planes_v0_noinfoloss/bestmodel_opa.pkl\")\n",
    "cfg.model.to(cfg.device)\n",
    "cfg.model.eval()\n",
    "1"
   ]
  },
  {
   "cell_type": "code",
   "execution_count": 6,
   "metadata": {},
   "outputs": [],
   "source": [
    "# cfg.train_dataset.slices = [cfg.train_dataset.slices[x] for x in range(0,len(cfg.train_dataset.slices),len(cfg.train_dataset.slices)//500)]"
   ]
  },
  {
   "cell_type": "code",
   "execution_count": 18,
   "metadata": {},
   "outputs": [],
   "source": [
    "valid_loader = DataLoader(cfg.valid_dataset, batch_size=1, pin_memory=cfg.PIN_MEMORY, num_workers=cfg.NUM_WORKERS_VAL,shuffle=False,collate_fn=cfg.inference_collator)"
   ]
  },
  {
   "cell_type": "code",
   "execution_count": 25,
   "metadata": {},
   "outputs": [],
   "source": [
    "evaluation_callback = ModelValidationCallback(cfg.model,valid_loader,cfg.PRED_THRESHOLD,cfg.device)"
   ]
  },
  {
   "cell_type": "code",
   "execution_count": 26,
   "metadata": {},
   "outputs": [
    {
     "name": "stderr",
     "output_type": "stream",
     "text": [
      "100%|██████████| 513/513 [05:02<00:00,  1.70it/s]\n"
     ]
    }
   ],
   "source": [
    "gt,preds = evaluation_callback(0)"
   ]
  },
  {
   "cell_type": "code",
   "execution_count": 27,
   "metadata": {},
   "outputs": [],
   "source": [
    "from senet_hoa.dataset.transforms import FilterSmallComponents\n",
    "tform = FilterSmallComponents()"
   ]
  },
  {
   "cell_type": "code",
   "execution_count": 28,
   "metadata": {},
   "outputs": [
    {
     "name": "stderr",
     "output_type": "stream",
     "text": [
      "/app/segment/solve-diseases/notebooks/../senet_hoa/utils/surface_dice_metric.py:1181: RuntimeWarning: invalid value encountered in double_scalars\n",
      "  surface_dice = (overlap_gt + overlap_pred) / (np.sum(surfel_areas_gt) +\n"
     ]
    },
    {
     "name": "stdout",
     "output_type": "stream",
     "text": [
      "thres=0.5 : 0.49483603224629713\n"
     ]
    }
   ],
   "source": [
    "# all_scores = [compute_2d_dice(x>0,y>cfg.PRED_THRESHOLD) for x,y in zip(gt,preds)] \n",
    "all_scores = [compute_2d_dice(x>0,tform.apply_to_mask(y>0.5)) for x,y in zip(gt,preds)] \n",
    "all_scores = [x for x in all_scores if not np.isnan(x)]\n",
    "score = np.mean(all_scores) if len(all_scores)>0 else 0\n",
    "print(f\"thres={cfg.PRED_THRESHOLD} : {score}\")"
   ]
  },
  {
   "cell_type": "code",
   "execution_count": null,
   "metadata": {},
   "outputs": [],
   "source": [
    "8 0.49483603224629713\n",
    "\n",
    "7 0.49483603224629713\n",
    "\n",
    "6 0.5045748301923862\n"
   ]
  },
  {
   "cell_type": "code",
   "execution_count": 23,
   "metadata": {},
   "outputs": [
    {
     "name": "stdout",
     "output_type": "stream",
     "text": [
      "thres=9 : 0.4600667044033393\n"
     ]
    }
   ],
   "source": [
    "# # all_scores = [compute_2d_dice(x>0,tform.apply_to_mask(y>0.5)) for x,y in zip(gt,preds)] \n",
    "# all_scores = [x for x in all_scores if not np.isnan(x)]\n",
    "# score = np.mean(all_scores) if len(all_scores)>0 else 0\n",
    "# print(f\"thres={thres} : {score}\")"
   ]
  },
  {
   "attachments": {},
   "cell_type": "markdown",
   "metadata": {},
   "source": [
    "# Threshold calculation"
   ]
  },
  {
   "cell_type": "code",
   "execution_count": 24,
   "metadata": {},
   "outputs": [],
   "source": [
    "for thres in range(4,10):\n",
    "    all_scores = [compute_2d_dice(x>0,y>thres/10) for x,y in zip(gt,preds)] \n",
    "    all_scores = [x for x in all_scores if not np.isnan(x)]\n",
    "    score = np.mean(all_scores) if len(all_scores)>0 else 0\n",
    "    print(f\"thres={thres} : {score}\")"
   ]
  },
  {
   "cell_type": "code",
   "execution_count": null,
   "metadata": {},
   "outputs": [],
   "source": []
  }
 ],
 "metadata": {
  "kernelspec": {
   "display_name": "Python 3",
   "language": "python",
   "name": "python3"
  },
  "language_info": {
   "codemirror_mode": {
    "name": "ipython",
    "version": 3
   },
   "file_extension": ".py",
   "mimetype": "text/x-python",
   "name": "python",
   "nbconvert_exporter": "python",
   "pygments_lexer": "ipython3",
   "version": "3.8.10"
  },
  "orig_nbformat": 4
 },
 "nbformat": 4,
 "nbformat_minor": 2
}
